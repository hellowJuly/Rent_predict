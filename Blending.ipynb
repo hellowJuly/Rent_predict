{
 "cells": [
  {
   "cell_type": "code",
   "execution_count": 1,
   "metadata": {},
   "outputs": [],
   "source": [
    "import pandas as pd\n",
    "import numpy as np\n",
    "import lightgbm as lgb\n",
    "import xgboost as xgb\n",
    "from sklearn.ensemble import GradientBoostingRegressor\n",
    "from sklearn.model_selection import train_test_split\n",
    "\n",
    "from sklearn.preprocessing import LabelEncoder,OneHotEncoder,MinMaxScaler,StandardScaler\n",
    "\n",
    "from sklearn.metrics import r2_score\n",
    "\n",
    "import matplotlib.pyplot as plt\n",
    "import seaborn as sbn\n",
    "\n",
    "data=pd.read_csv('data.csv',encoding='gbk')\n",
    "\n",
    "real_data=pd.read_csv('sub_a_913.csv')"
   ]
  },
  {
   "cell_type": "code",
   "execution_count": 2,
   "metadata": {},
   "outputs": [
    {
     "name": "stdout",
     "output_type": "stream",
     "text": [
      "['area', 'totalFloor', 'saleSecHouseNum', 'totalTradeMoney', 'totalTradeArea', 'tradeMeanPrice', 'tradeSecNum', 'totalNewTradeMoney', 'totalNewTradeArea', 'tradeNewMeanPrice', 'tradeNewNum', 'remainNewNum', 'supplyNewNum', 'supplyLandNum', 'supplyLandArea', 'tradeLandNum', 'tradeLandArea', 'landTotalPrice', 'landMeanPrice', 'totalWorkers', 'newWorkers', 'residentPopulation', 'pv', 'uv', 'lookNum', 'month', 'days', 'room_num', 'lobby_num', 'toilet_num', 'transport', 'school', 'hospital', 'mall', 'other', 'communityName_count', 'totalFloor_count', 'buildYear_count', 'plate_count', 'totalFloorcommunityName_count', 'buildYearcommunityName_count', 'plateregion_count', 'ave_money', 'community_mean_area', 'community_std_area', 'community_mean_ave_money', 'community_std_ave_money', 'plate_mean_ave_money_x', 'plate_std_ave_money_x', 'plate_mean_area', 'plate_std_area', 'plate_mean_ave_money_y', 'plate_std_ave_money_y', 'community_mean_transport', 'community_std_transport', 'community_mean_mall', 'community_std_mall', 'region_mean_transport', 'region_std_transport', 'communityName_region_mean_ave_money', 'communityName_region_std_ave_money', 'communityName_plate_mean_ave_money', 'communityName_plate_std_ave_money', 'communityName_plate_mean_transport', 'communityName_plate_std_transport', 'community_mean_school', 'community_std_school', 'plate_mean_mall_x', 'plate_std_mall_x', 'plate_mean_mall_y', 'plate_std_mall_y', 'plate_mean_other', 'plate_std_other', 'region_plate_mean_hospital', 'region_plate_std_hospital', 'buildYear_mean_ave_money', 'buildYear_std_ave_money']\n"
     ]
    }
   ],
   "source": [
    "\n",
    "#根据分析，可以将数据属性分为类别特征和连续型特征\n",
    "#类别特征\n",
    "category_feauture=[ 'rentType', 'houseType', 'houseFloor','houseToward', 'houseDecoration', 'communityName', 'region',\n",
    "                    'plate', 'buildYear', 'room_lobby', 'room_toilet', 'lobby_toilet']\n",
    "\n",
    "#连续型特征\n",
    "Value_feauture=[f for f in data.columns if f not in category_feauture and f not in ['ID','tradeTime','tradeMoney','type','city']]\n",
    "print(Value_feauture)\n",
    "\n",
    "target=['tradeMoney']\n",
    "\n",
    "for f in category_feauture:\n",
    "    ln=LabelEncoder()\n",
    "    data[f]=ln.fit_transform(data[f])\n",
    "'''   \n",
    "for f in Value_feauture:\n",
    "    if f not in ['ave_money']:\n",
    "        mms=MinMaxScaler(feature_range=(0,1))\n",
    "        data[f]=mms.fit_transform(data[f].values.reshape(-1,1))''' \n",
    "\n",
    "feas=category_feauture+Value_feauture"
   ]
  },
  {
   "cell_type": "code",
   "execution_count": 3,
   "metadata": {},
   "outputs": [],
   "source": [
    "'''from sklearn.mixture import GaussianMixture\n",
    "def cluster(data):\n",
    "    cols=[ 'rentType', 'houseType', 'houseFloor','houseToward', 'houseDecoration', 'communityName', 'region',\n",
    "          \n",
    "         'plate', 'buildYear', 'room_lobby', 'room_toilet', 'lobby_toilet', \n",
    "          \n",
    "        'totalFloor', 'saleSecHouseNum', 'totalTradeMoney', 'totalTradeArea', 'tradeMeanPrice', 'tradeSecNum', \n",
    "          \n",
    "          'totalNewTradeMoney', 'totalNewTradeArea', 'tradeNewMeanPrice', 'tradeNewNum', 'remainNewNum', 'supplyNewNum',\n",
    "          \n",
    "          'supplyLandNum', 'supplyLandArea', 'tradeLandNum', 'tradeLandArea', 'landTotalPrice',\n",
    "          \n",
    "          'landMeanPrice', 'totalWorkers', 'newWorkers', 'residentPopulation', 'pv', 'uv', 'lookNum',\n",
    "          \n",
    "          'month', 'days', 'room_num', 'lobby_num', 'toilet_num', 'transport', 'school', 'hospital', 'mall',\n",
    "          \n",
    "          'other', 'communityName_count', 'totalFloor_count','buildYear_count', 'plate_count',\n",
    "          \n",
    "          'totalFloorcommunityName_count', 'buildYearcommunityName_count', 'plateregion_count']\n",
    "    \n",
    "    gmm=GaussianMixture(n_components=3, covariance_type='full', random_state=0)\n",
    "    data['cluster']=pd.DataFrame(gmm.fit(data[cols]).predict(data[cols]))\n",
    "    \n",
    "    col1=['rentType', 'houseType', 'houseFloor','houseToward', 'houseDecoration', 'communityName', 'region',\n",
    "          \n",
    "         'plate', 'buildYear', 'room_lobby', 'room_toilet', 'lobby_toilet']\n",
    "    \n",
    "    col2=['totalFloor', 'saleSecHouseNum', 'totalTradeMoney', 'totalTradeArea', 'tradeMeanPrice', 'tradeSecNum', \n",
    "          \n",
    "          'totalNewTradeMoney', 'totalNewTradeArea', 'tradeNewMeanPrice', 'tradeNewNum', 'remainNewNum', 'supplyNewNum',\n",
    "          \n",
    "          'supplyLandNum', 'supplyLandArea', 'tradeLandNum', 'tradeLandArea', 'landTotalPrice',\n",
    "          \n",
    "          'landMeanPrice', 'totalWorkers', 'newWorkers', 'residentPopulation', 'pv', 'uv', 'lookNum',\n",
    "          \n",
    "          'month', 'days', 'room_num', 'lobby_num', 'toilet_num', 'transport', 'school', 'hospital', 'mall',\n",
    "          \n",
    "          'other', 'communityName_count', 'totalFloor_count','buildYear_count', 'plate_count',\n",
    "          \n",
    "          'totalFloorcommunityName_count', 'buildYearcommunityName_count', 'plateregion_count']\n",
    "    \n",
    "    for f1 in col1:\n",
    "        for f2 in col2:\n",
    "            temp=data.groupby(['cluster',f1])[f2].agg('mean').reset_index(name=f1+'feature'+f2)\n",
    "            temp.fillna(0,inplace=True)\n",
    "            data=data.merge(temp,on=['cluster',f1],how='left')\n",
    "            \n",
    "    return data\n",
    "\n",
    "data=cluster(data)\n",
    "#连续型特征\n",
    "Value_feauture=[f for f in data.columns if f not in category_feauture and f not in ['ID','tradeTime','tradeMoney','type','city']]\n",
    "\n",
    "print(Value_feauture)\n",
    "'''\n",
    "#做log平滑，与LabelEncoder 相比，log平滑线下下降，但线上有提高\n",
    "\n",
    "'''for f in Value_feauture:\n",
    "    if f not in ['ave_money']:\n",
    "        mms=MinMaxScaler(feature_range=(0,1))\n",
    "        data[f]=mms.fit_transform(data[f].values.reshape(-1,1))\n",
    "'''\n",
    "for f in Value_feauture:\n",
    "    data[f]=data[f].map(lambda x:np.log1p(x))\n",
    "    \n",
    "feas=category_feauture+Value_feauture\n"
   ]
  },
  {
   "cell_type": "code",
   "execution_count": 4,
   "metadata": {},
   "outputs": [],
   "source": [
    "#划分数据集\n",
    "\n",
    "train_=data[data['type']=='train'][feas]\n",
    "test_=data[data['type']=='test'][feas]\n",
    "train_target=data[data['type']=='train']['tradeMoney']\n",
    "test_target=data[data['type']=='test']['tradeMoney']\n",
    "\n",
    "#划分数据为训练集和验证集，比例为 8:2\n",
    "\n",
    "train_x,valid_x,train_y,valid_y=train_test_split(train_,train_target,test_size=0.2,random_state=42)"
   ]
  },
  {
   "cell_type": "markdown",
   "metadata": {},
   "source": [
    "# LGB"
   ]
  },
  {
   "cell_type": "code",
   "execution_count": 5,
   "metadata": {
    "scrolled": true
   },
   "outputs": [
    {
     "name": "stdout",
     "output_type": "stream",
     "text": [
      "Train until valid scores didn't improve in 200 rounds.\n",
      "[1000]\ttrain's l1: 558.359\tvalid's l1: 664.094\n",
      "[2000]\ttrain's l1: 477.118\tvalid's l1: 622.508\n",
      "[3000]\ttrain's l1: 431.526\tvalid's l1: 607.038\n",
      "[4000]\ttrain's l1: 398.448\tvalid's l1: 599.168\n",
      "[5000]\ttrain's l1: 371.725\tvalid's l1: 594.915\n",
      "[6000]\ttrain's l1: 349.648\tvalid's l1: 592.72\n",
      "[7000]\ttrain's l1: 330.102\tvalid's l1: 590.987\n",
      "[8000]\ttrain's l1: 312.982\tvalid's l1: 590.134\n",
      "Early stopping, best iteration is:\n",
      "[8655]\ttrain's l1: 302.701\tvalid's l1: 589.75\n",
      "                                column  importance\n",
      "12                                area       38335\n",
      "54                           ave_money       25780\n",
      "38                                days       25606\n",
      "56                  community_std_area       22368\n",
      "55                 community_mean_area       21927\n",
      "58             community_std_ave_money       20604\n",
      "57            community_mean_ave_money       16188\n",
      "13                          totalFloor       14860\n",
      "17                      tradeMeanPrice       14666\n",
      "47                 communityName_count       14326\n",
      "21                   tradeNewMeanPrice       14234\n",
      "51       totalFloorcommunityName_count       13579\n",
      "48                    totalFloor_count       13069\n",
      "8                            buildYear       12116\n",
      "5                        communityName       10265\n",
      "19                  totalNewTradeMoney        9638\n",
      "15                     totalTradeMoney        9425\n",
      "49                     buildYear_count        9100\n",
      "87            buildYear_mean_ave_money        8824\n",
      "23                        remainNewNum        8794\n",
      "34                                  pv        8748\n",
      "88             buildYear_std_ave_money        8663\n",
      "1                            houseType        8424\n",
      "35                                  uv        8363\n",
      "20                   totalNewTradeArea        8342\n",
      "2                           houseFloor        8302\n",
      "24                        supplyNewNum        7987\n",
      "64               plate_std_ave_money_y        7432\n",
      "18                         tradeSecNum        7061\n",
      "14                     saleSecHouseNum        7022\n",
      "..                                 ...         ...\n",
      "26                      supplyLandArea        1276\n",
      "74   communityName_plate_std_ave_money        1239\n",
      "77               community_mean_school        1111\n",
      "69               region_mean_transport        1026\n",
      "70                region_std_transport         997\n",
      "40                           lobby_num         930\n",
      "73  communityName_plate_mean_ave_money         919\n",
      "6                               region         896\n",
      "30                       landMeanPrice         821\n",
      "53                   plateregion_count         810\n",
      "85          region_plate_mean_hospital         648\n",
      "67                 community_mean_mall         593\n",
      "65            community_mean_transport         572\n",
      "83                    plate_mean_other         544\n",
      "29                      landTotalPrice         475\n",
      "28                       tradeLandArea         463\n",
      "25                       supplyLandNum         237\n",
      "27                        tradeLandNum         154\n",
      "75  communityName_plate_mean_transport         138\n",
      "79                   plate_mean_mall_x         115\n",
      "39                            room_num          35\n",
      "81                   plate_mean_mall_y          34\n",
      "86           region_plate_std_hospital           0\n",
      "84                     plate_std_other           0\n",
      "68                  community_std_mall           0\n",
      "82                    plate_std_mall_y           0\n",
      "80                    plate_std_mall_x           0\n",
      "66             community_std_transport           0\n",
      "76   communityName_plate_std_transport           0\n",
      "78                community_std_school           0\n",
      "\n",
      "[89 rows x 2 columns]\n"
     ]
    }
   ],
   "source": [
    "#构建baseline模型\n",
    "params = {\n",
    "    'boosting_type': 'gbdt',\n",
    "    'objective': 'regression',\n",
    "    'metric': 'mae',\n",
    "    'num_leaves': 63,\n",
    "    'learning_rate': 0.005679442571576396,\n",
    "    'feature_fraction': 0.7676518091514808,\n",
    "    'bagging_fraction': 0.9168952116883595,\n",
    "    'bagging_seed':0,\n",
    "    'bagging_freq': 1,\n",
    "    'verbose': 1,\n",
    "    'reg_alpha':1,\n",
    "    'reg_lambda':2,\n",
    "    'min_child_weight':6\n",
    "}\n",
    "\n",
    "lgb_train=lgb.Dataset(train_x,train_y)\n",
    "lgb_eval=lgb.Dataset(valid_x,valid_y,reference=lgb_train)\n",
    "\n",
    "gbm=lgb.train(params,lgb_train,num_boost_round=10000,valid_sets=[lgb_train,lgb_eval],\n",
    "                valid_names=['train','valid'],\n",
    "                early_stopping_rounds=200,\n",
    "                verbose_eval=1000,\n",
    "                )\n",
    "valid1=gbm.predict(valid_x)\n",
    "feature_rank=gbm.feature_importance()\n",
    "features_df=pd.DataFrame({ 'column':feas,'importance': feature_rank}).sort_values(by='importance', ascending=False)\n",
    "print(features_df)"
   ]
  },
  {
   "cell_type": "code",
   "execution_count": 6,
   "metadata": {},
   "outputs": [
    {
     "name": "stdout",
     "output_type": "stream",
     "text": [
      "验证集结果:0.8679131209717259\n"
     ]
    }
   ],
   "source": [
    "from sklearn.metrics import r2_score\n",
    "r2=r2_score(valid1,valid_y)\n",
    "print(\"验证集结果:{}\".format(r2))\n",
    "\n",
    "# 未做特征工程前，验证集结果 :0.8480048499945494\n",
    "\n",
    "#做特征工程，没加方差和均值统计特征前，验证集结果:0.8569968502829308（线下有提高）\n",
    "\n",
    "#加了方差和均值统计特征，验证集结果:0.8669673740210536（有提高）\n",
    "\n",
    "#做了聚类特征 验证集结果:0.8654237103479906，线下有点下降\n",
    "\n",
    "# 验证集结果:0.8659004972100439"
   ]
  },
  {
   "cell_type": "markdown",
   "metadata": {},
   "source": [
    "# XGB"
   ]
  },
  {
   "cell_type": "code",
   "execution_count": 7,
   "metadata": {},
   "outputs": [
    {
     "name": "stderr",
     "output_type": "stream",
     "text": [
      "D:\\Anaconda\\lib\\site-packages\\xgboost\\core.py:587: FutureWarning: Series.base is deprecated and will be removed in a future version\n",
      "  if getattr(data, 'base', None) is not None and \\\n"
     ]
    },
    {
     "name": "stdout",
     "output_type": "stream",
     "text": [
      "[0]\tvalidation_0-rmse:6213.02\tvalidation_1-rmse:6380.91\n",
      "Multiple eval metrics have been passed: 'validation_1-rmse' will be used for early stopping.\n",
      "\n",
      "Will train until validation_1-rmse hasn't improved in 100 rounds.\n",
      "[100]\tvalidation_0-rmse:6154.55\tvalidation_1-rmse:6323.48\n",
      "[200]\tvalidation_0-rmse:3498.19\tvalidation_1-rmse:3715.28\n",
      "[300]\tvalidation_0-rmse:1405.03\tvalidation_1-rmse:1661.64\n",
      "[400]\tvalidation_0-rmse:1238.33\tvalidation_1-rmse:1515.7\n",
      "[500]\tvalidation_0-rmse:1157.1\tvalidation_1-rmse:1463.94\n",
      "[600]\tvalidation_0-rmse:1096.36\tvalidation_1-rmse:1434.19\n",
      "[700]\tvalidation_0-rmse:1050.21\tvalidation_1-rmse:1423.74\n",
      "[800]\tvalidation_0-rmse:1007.55\tvalidation_1-rmse:1425.45\n",
      "Stopping. Best iteration:\n",
      "[716]\tvalidation_0-rmse:1042.92\tvalidation_1-rmse:1420.52\n",
      "\n"
     ]
    }
   ],
   "source": [
    "xgb_model = xgb.XGBRegressor(max_depth=5 , learning_rate=0.05, n_estimators=2000, \n",
    "                        objective='reg:gamma', tree_method = 'hist',subsample=0.9, \n",
    "                        colsample_bytree=0.7, min_child_samples=5,eval_metric = 'rmse' \n",
    "                        )\n",
    "xgb_model.fit(train_x, train_y,eval_set=[(train_x, train_y),(valid_x, valid_y)], \n",
    "              early_stopping_rounds=100, verbose=100)\n",
    "valid2=xgb_model.predict(valid_x)"
   ]
  },
  {
   "cell_type": "code",
   "execution_count": 8,
   "metadata": {},
   "outputs": [
    {
     "name": "stdout",
     "output_type": "stream",
     "text": [
      "验证集结果:0.8504732994179766\n"
     ]
    }
   ],
   "source": [
    "#验证结果\n",
    "r2=r2_score(valid2,valid_y)\n",
    "print(\"验证集结果:{}\".format(r2))\n",
    "# 验证集结果:0.8504732994179766"
   ]
  },
  {
   "cell_type": "markdown",
   "metadata": {},
   "source": [
    "# 融合"
   ]
  },
  {
   "cell_type": "code",
   "execution_count": 9,
   "metadata": {},
   "outputs": [
    {
     "name": "stdout",
     "output_type": "stream",
     "text": [
      "验证集结果:0.8679074699532929\n"
     ]
    }
   ],
   "source": [
    "valid=0.5*valid1+valid2*0.5\n",
    "#融合验证结果\n",
    "r2=r2_score(valid,valid_y)\n",
    "print(\"验证集结果:{}\".format(r2))"
   ]
  },
  {
   "cell_type": "code",
   "execution_count": 10,
   "metadata": {},
   "outputs": [
    {
     "name": "stdout",
     "output_type": "stream",
     "text": [
      "Train until valid scores didn't improve in 200 rounds.\n",
      "[1000]\ttrain's l1: 568.076\n",
      "[2000]\ttrain's l1: 489.65\n",
      "[3000]\ttrain's l1: 445.587\n",
      "[4000]\ttrain's l1: 413.792\n",
      "[5000]\ttrain's l1: 388.758\n",
      "[6000]\ttrain's l1: 368.029\n",
      "[7000]\ttrain's l1: 350.08\n",
      "[8000]\ttrain's l1: 334.155\n",
      "[9000]\ttrain's l1: 319.87\n",
      "[10000]\ttrain's l1: 306.727\n",
      "测试集结果:0.953149527789435\n"
     ]
    }
   ],
   "source": [
    "#训练整个数据模型，并预测\n",
    "lgb_train_=lgb.Dataset(train_,train_target)\n",
    "gbm=lgb.train(params,lgb_train_,num_boost_round=10000,valid_sets=[lgb_train_],\n",
    "              valid_names=['train'],\n",
    "              early_stopping_rounds=200,\n",
    "              verbose_eval=1000)\n",
    "\n",
    "real_data['pred1']=gbm.predict(test_)\n",
    "r2=r2_score(real_data['pred1'],real_data['pre'])\n",
    "print(\"测试集结果:{}\".format(r2))\n",
    "#测试集结果: 0.9462638018840759"
   ]
  },
  {
   "cell_type": "code",
   "execution_count": 11,
   "metadata": {},
   "outputs": [
    {
     "name": "stderr",
     "output_type": "stream",
     "text": [
      "D:\\Anaconda\\lib\\site-packages\\xgboost\\core.py:587: FutureWarning: Series.base is deprecated and will be removed in a future version\n",
      "  if getattr(data, 'base', None) is not None and \\\n",
      "D:\\Anaconda\\lib\\site-packages\\xgboost\\core.py:588: FutureWarning: Series.base is deprecated and will be removed in a future version\n",
      "  data.base is not None and isinstance(data, np.ndarray) \\\n"
     ]
    },
    {
     "name": "stdout",
     "output_type": "stream",
     "text": [
      "测试集结果:0.9578887129585293\n"
     ]
    }
   ],
   "source": [
    "xgb_model.fit(train_, train_target)\n",
    "real_data['pred2']=xgb_model.predict(test_)\n",
    "r2=r2_score(real_data['pred2'],real_data['pre'])\n",
    "print(\"测试集结果:{}\".format(r2))\n",
    "# 测试集结果: 0.9578887129585293"
   ]
  },
  {
   "cell_type": "code",
   "execution_count": 18,
   "metadata": {},
   "outputs": [
    {
     "name": "stdout",
     "output_type": "stream",
     "text": [
      "测试集结果:0.96454862677646\n"
     ]
    }
   ],
   "source": [
    "#融合结果\n",
    "real_data['pred']=0.4*real_data['pred1']+0.6*real_data['pred2']\n",
    "r2=r2_score(real_data['pred'],real_data['pre'])\n",
    "print(\"测试集结果:{}\".format(r2))\n",
    "\n",
    "#融合之后测试集结果:0.9631897556310717，可以看出平均加权融合有一定提升"
   ]
  },
  {
   "cell_type": "code",
   "execution_count": 13,
   "metadata": {},
   "outputs": [
    {
     "ename": "ModuleNotFoundError",
     "evalue": "No module named 'catboost'",
     "output_type": "error",
     "traceback": [
      "\u001b[1;31m---------------------------------------------------------------------------\u001b[0m",
      "\u001b[1;31mModuleNotFoundError\u001b[0m                       Traceback (most recent call last)",
      "\u001b[1;32m<ipython-input-13-d78f0c8b0425>\u001b[0m in \u001b[0;36m<module>\u001b[1;34m()\u001b[0m\n\u001b[1;32m----> 1\u001b[1;33m \u001b[1;32mimport\u001b[0m \u001b[0mcatboost\u001b[0m \u001b[1;32mas\u001b[0m \u001b[0mcat\u001b[0m\u001b[1;33m\u001b[0m\u001b[0m\n\u001b[0m",
      "\u001b[1;31mModuleNotFoundError\u001b[0m: No module named 'catboost'"
     ]
    }
   ],
   "source": [
    "import catboost as cat"
   ]
  }
 ],
 "metadata": {
  "kernelspec": {
   "display_name": "Python 3",
   "language": "python",
   "name": "python3"
  },
  "language_info": {
   "codemirror_mode": {
    "name": "ipython",
    "version": 3
   },
   "file_extension": ".py",
   "mimetype": "text/x-python",
   "name": "python",
   "nbconvert_exporter": "python",
   "pygments_lexer": "ipython3",
   "version": "3.6.5"
  }
 },
 "nbformat": 4,
 "nbformat_minor": 2
}
